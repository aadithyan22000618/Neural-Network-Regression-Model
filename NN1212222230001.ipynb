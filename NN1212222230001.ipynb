{
  "nbformat": 4,
  "nbformat_minor": 0,
  "metadata": {
    "colab": {
      "provenance": []
    },
    "kernelspec": {
      "name": "python3",
      "display_name": "Python 3"
    },
    "language_info": {
      "name": "python"
    }
  },
  "cells": [
    {
      "cell_type": "code",
      "execution_count": null,
      "metadata": {
        "id": "Z4EVC214y0qp"
      },
      "outputs": [],
      "source": [
        "import pandas as pd\n",
        "from os import X_OK"
      ]
    },
    {
      "cell_type": "code",
      "source": [
        "df=pd.read_csv('/content/linear_data_20.csv')"
      ],
      "metadata": {
        "id": "rMcfPOd4zCd3"
      },
      "execution_count": null,
      "outputs": []
    },
    {
      "cell_type": "code",
      "source": [
        "x=df['X'].values\n",
        "y=df['Y'].values"
      ],
      "metadata": {
        "id": "mXZDFFfNzKnq"
      },
      "execution_count": null,
      "outputs": []
    },
    {
      "cell_type": "code",
      "source": [
        "from sklearn.model_selection import train_test_split\n",
        "x_train,x_test,y_train,y_test=train_test_split(x,y,test_size=0.3,random_state=30);"
      ],
      "metadata": {
        "id": "voGDKarPz_5q"
      },
      "execution_count": null,
      "outputs": []
    },
    {
      "cell_type": "code",
      "source": [
        "from sklearn.preprocessing import MinMaxScaler\n",
        "scaler = MinMaxScaler()\n",
        "x_train = x_train.reshape(-1, 1)\n",
        "x_test = x_test.reshape(-1, 1)\n",
        "x_train = scaler.fit_transform(x_train)\n",
        "x_test = scaler.transform(x_test)"
      ],
      "metadata": {
        "id": "wI9DgNaP0gY4"
      },
      "execution_count": null,
      "outputs": []
    },
    {
      "cell_type": "code",
      "source": [
        "import torch\n",
        "import torch.nn as nn\n",
        "x_train_tensor=torch.tensor(x_train).float()\n",
        "x_test_tensor=torch.tensor(x_test).float().view(-1,1)\n",
        "y_train_tensor=torch.tensor(y_train).float()\n",
        "y_test_tensor=torch.tensor(y_test).float().view(-1,1)"
      ],
      "metadata": {
        "id": "SNziETod32A-"
      },
      "execution_count": null,
      "outputs": []
    },
    {
      "cell_type": "code",
      "source": [
        "class Neuralnet(nn.Module):\n",
        "  def __init__(self):\n",
        "    super().__init__()\n",
        "    self.fc1=nn.Linear(1,8)\n",
        "    self.fc2=nn.Linear(8,10)\n",
        "    self.fc3=nn.Linear(10,1)\n",
        "    self.relu=nn.ReLU()\n",
        "    self.history={'loss':[]}\n",
        "  def forward(self,x):\n",
        "    x=self.relu(self.fc1(x))\n",
        "    x=self.relu(self.fc2(x))\n",
        "    x=self.fc3(x)\n",
        "    return x"
      ],
      "metadata": {
        "id": "T-gnxYAx4zqn"
      },
      "execution_count": null,
      "outputs": []
    },
    {
      "cell_type": "code",
      "source": [
        "Aadithyan_brain=Neuralnet()\n",
        "criterion=nn.MSELoss()\n",
        "optimizer=torch.optim.RMSprop(Aadithyan_brain.parameters(),lr=0.001)"
      ],
      "metadata": {
        "id": "ba6lNMW5rmXw"
      },
      "execution_count": null,
      "outputs": []
    },
    {
      "cell_type": "code",
      "source": [
        "def train_model(Aadithyan_brain=_brain,x_train,y_train,criterion,optimizer,epochs=2000):\n",
        "  for epoch in range(epochs):\n",
        "    optimizer.zero_grad()\n",
        "    loss=criterion(Aadithyan_brain(x_train),y_train)\n",
        "    loss.backward()\n",
        "    optimizer.step()\n",
        "    Aadithyan_brain.history['loss'].append(loss.item())\n",
        "    if epoch%200==0:\n",
        "      print(f'epoch:[{epoch}/{epochs}], loss:{loss.item():.6f}')"
      ],
      "metadata": {
        "id": "1qW7eSMiuabS"
      },
      "execution_count": null,
      "outputs": []
    },
    {
      "cell_type": "code",
      "source": [
        "train_model(Aadithyan_brain,x_train_tensor,y_train_tensor,criterion,optimizer)"
      ],
      "metadata": {
        "colab": {
          "base_uri": "https://localhost:8080/"
        },
        "id": "ejOqFBTDwEai",
        "outputId": "7157033e-8f18-435b-e0e0-c61e0d95a12e"
      },
      "execution_count": null,
      "outputs": [
        {
          "output_type": "stream",
          "name": "stderr",
          "text": [
            "/usr/local/lib/python3.11/dist-packages/torch/nn/modules/loss.py:610: UserWarning: Using a target size (torch.Size([14])) that is different to the input size (torch.Size([14, 1])). This will likely lead to incorrect results due to broadcasting. Please ensure they have the same size.\n",
            "  return F.mse_loss(input, target, reduction=self.reduction)\n"
          ]
        },
        {
          "output_type": "stream",
          "name": "stdout",
          "text": [
            "epoch:[0/2000], loss:145.490784\n",
            "epoch:[200/2000], loss:145.490799\n",
            "epoch:[400/2000], loss:145.490784\n",
            "epoch:[600/2000], loss:145.490768\n",
            "epoch:[800/2000], loss:145.490799\n",
            "epoch:[1000/2000], loss:145.490784\n",
            "epoch:[1200/2000], loss:145.490768\n",
            "epoch:[1400/2000], loss:145.490799\n",
            "epoch:[1600/2000], loss:145.490799\n",
            "epoch:[1800/2000], loss:145.490768\n"
          ]
        }
      ]
    },
    {
      "cell_type": "code",
      "source": [
        "with torch.no_grad():\n",
        "    test_loss = criterion(Aadithyan_brain(x_test_tensor), y_test_tensor)\n",
        "    print(f'Test Loss: {test_loss.item():.6f}')"
      ],
      "metadata": {
        "colab": {
          "base_uri": "https://localhost:8080/"
        },
        "id": "2KdqQSdjxECP",
        "outputId": "0088ad2a-e8a8-4a6b-9335-dc64387e5554"
      },
      "execution_count": null,
      "outputs": [
        {
          "output_type": "stream",
          "name": "stdout",
          "text": [
            "Test Loss: 104.146339\n"
          ]
        }
      ]
    },
    {
      "cell_type": "markdown",
      "source": [],
      "metadata": {
        "id": "5qGWfAow2xRX"
      }
    },
    {
      "cell_type": "code",
      "source": [
        "loss_df = pd.DataFrame(Aadithyan_brain.history)"
      ],
      "metadata": {
        "id": "x-M8uLrJzL0T"
      },
      "execution_count": null,
      "outputs": []
    },
    {
      "cell_type": "code",
      "source": [
        "import matplotlib.pyplot as plt\n",
        "loss_df.plot()\n",
        "plt.xlabel(\"Epochs\")\n",
        "plt.ylabel(\"Loss\")\n",
        "plt.title(\"Loss during Training\")\n",
        "plt.show()"
      ],
      "metadata": {
        "colab": {
          "base_uri": "https://localhost:8080/",
          "height": 472
        },
        "id": "_hTdCrwVzfuR",
        "outputId": "d174bec4-a675-42ca-81f0-b24771291ddc"
      },
      "execution_count": null,
      "outputs": [
        {
          "output_type": "display_data",
          "data": {
            "text/plain": [
              "<Figure size 640x480 with 1 Axes>"
            ],
            "image/png": "[encoded data removed]"
          },
          "metadata": {}
        }
      ]
    },
    {
      "cell_type": "code",
      "source": [
        "X_n1_1 = torch.tensor([[20]], dtype=torch.float32)\n",
        "prediction = Aadithyan_brain(torch.tensor(scaler.transform(X_n1_1), dtype=torch.float32)).item()\n",
        "print(f'Prediction: {prediction}')"
      ],
      "metadata": {
        "colab": {
          "base_uri": "https://localhost:8080/"
        },
        "id": "dwSFmtZAzkRW",
        "outputId": "497aaff3-c582-4a47-93c9-e8401d3a0d42"
      },
      "execution_count": null,
      "outputs": [
        {
          "output_type": "stream",
          "name": "stdout",
          "text": [
            "Prediction: 21.321014404296875\n"
          ]
        }
      ]
    },
    {
      "cell_type": "code",
      "source": [
        "print(df)"
      ],
      "metadata": {
        "colab": {
          "base_uri": "https://localhost:8080/"
        },
        "id": "K1d006r03Tbm",
        "outputId": "84658527-8525-45c4-e06d-502dfb331cbc"
      },
      "execution_count": null,
      "outputs": [
        {
          "output_type": "stream",
          "name": "stdout",
          "text": [
            "     X   Y\n",
            "0    1   2\n",
            "1    2   4\n",
            "2    3   6\n",
            "3    4   8\n",
            "4    5  10\n",
            "5    6  12\n",
            "6    7  14\n",
            "7    8  16\n",
            "8    9  18\n",
            "9   10  20\n",
            "10  11  22\n",
            "11  12  24\n",
            "12  13  26\n",
            "13  14  28\n",
            "14  15  30\n",
            "15  16  32\n",
            "16  17  34\n",
            "17  18  36\n",
            "18  19  38\n",
            "19  20  40\n"
          ]
        }
      ]
    },
    {
      "cell_type": "code",
      "source": [
        "NAME: AADITHYAN R\n",
        "REG NO : 212222230001"
      ],
      "metadata": {
        "id": "-Pdlp8-sC7dR"
      },
      "execution_count": null,
      "outputs": []
    }
  ]
}